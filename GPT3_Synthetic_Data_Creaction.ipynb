{
  "nbformat": 4,
  "nbformat_minor": 0,
  "metadata": {
    "colab": {
      "name": "GPT3_Synthetic_Data_Creaction.ipynb",
      "provenance": [],
      "collapsed_sections": [],
      "authorship_tag": "ABX9TyMfoutKVm5BtK2ZjiEjh/Cg",
      "include_colab_link": true
    },
    "kernelspec": {
      "name": "python3",
      "display_name": "Python 3"
    }
  },
  "cells": [
    {
      "cell_type": "markdown",
      "metadata": {
        "id": "view-in-github",
        "colab_type": "text"
      },
      "source": [
        "<a href=\"https://colab.research.google.com/github/worldwidekatie/GPT3_Synthetic/blob/master/GPT3_Synthetic_Data_Creaction.ipynb\" target=\"_parent\"><img src=\"https://colab.research.google.com/assets/colab-badge.svg\" alt=\"Open In Colab\"/></a>"
      ]
    },
    {
      "cell_type": "markdown",
      "metadata": {
        "id": "FiEo14lQeIck",
        "colab_type": "text"
      },
      "source": [
        "# **GPT3 Synthetic Training Data Research Project**\n",
        "# Step One: Create Synthetic Data"
      ]
    },
    {
      "cell_type": "code",
      "metadata": {
        "id": "fr3GvMVLeEPL",
        "colab_type": "code",
        "colab": {
          "base_uri": "https://localhost:8080/",
          "height": 292
        },
        "outputId": "4c00e31d-6288-463c-a41f-eef5e20ba1f4"
      },
      "source": [
        "!pip install openai"
      ],
      "execution_count": 1,
      "outputs": [
        {
          "output_type": "stream",
          "text": [
            "Collecting openai\n",
            "\u001b[?25l  Downloading https://files.pythonhosted.org/packages/a8/65/c7461f4c87984534683f480ea5742777bc39bbf5721123194c2d0347dc1f/openai-0.2.4.tar.gz (157kB)\n",
            "\r\u001b[K     |██                              | 10kB 14.0MB/s eta 0:00:01\r\u001b[K     |████▏                           | 20kB 584kB/s eta 0:00:01\r\u001b[K     |██████▎                         | 30kB 782kB/s eta 0:00:01\r\u001b[K     |████████▍                       | 40kB 946kB/s eta 0:00:01\r\u001b[K     |██████████▍                     | 51kB 717kB/s eta 0:00:01\r\u001b[K     |████████████▌                   | 61kB 822kB/s eta 0:00:01\r\u001b[K     |██████████████▋                 | 71kB 934kB/s eta 0:00:01\r\u001b[K     |████████████████▊               | 81kB 1.0MB/s eta 0:00:01\r\u001b[K     |██████████████████▊             | 92kB 1.1MB/s eta 0:00:01\r\u001b[K     |████████████████████▉           | 102kB 1.0MB/s eta 0:00:01\r\u001b[K     |███████████████████████         | 112kB 1.0MB/s eta 0:00:01\r\u001b[K     |█████████████████████████       | 122kB 1.0MB/s eta 0:00:01\r\u001b[K     |███████████████████████████     | 133kB 1.0MB/s eta 0:00:01\r\u001b[K     |█████████████████████████████▏  | 143kB 1.0MB/s eta 0:00:01\r\u001b[K     |███████████████████████████████▎| 153kB 1.0MB/s eta 0:00:01\r\u001b[K     |████████████████████████████████| 163kB 1.0MB/s \n",
            "\u001b[?25hRequirement already satisfied: requests>=2.20 in /usr/local/lib/python3.6/dist-packages (from openai) (2.23.0)\n",
            "Requirement already satisfied: idna<3,>=2.5 in /usr/local/lib/python3.6/dist-packages (from requests>=2.20->openai) (2.10)\n",
            "Requirement already satisfied: chardet<4,>=3.0.2 in /usr/local/lib/python3.6/dist-packages (from requests>=2.20->openai) (3.0.4)\n",
            "Requirement already satisfied: urllib3!=1.25.0,!=1.25.1,<1.26,>=1.21.1 in /usr/local/lib/python3.6/dist-packages (from requests>=2.20->openai) (1.24.3)\n",
            "Requirement already satisfied: certifi>=2017.4.17 in /usr/local/lib/python3.6/dist-packages (from requests>=2.20->openai) (2020.6.20)\n",
            "Building wheels for collected packages: openai\n",
            "  Building wheel for openai (setup.py) ... \u001b[?25l\u001b[?25hdone\n",
            "  Created wheel for openai: filename=openai-0.2.4-cp36-none-any.whl size=170709 sha256=11ceade4ee9225bf23a260b06de23ebb713e3cbb86b6ce0814dcbc25140439af\n",
            "  Stored in directory: /root/.cache/pip/wheels/74/96/c8/c6e170929c276b836613e1b9985343b501fe455e53d85e7d48\n",
            "Successfully built openai\n",
            "Installing collected packages: openai\n",
            "Successfully installed openai-0.2.4\n"
          ],
          "name": "stdout"
        }
      ]
    },
    {
      "cell_type": "code",
      "metadata": {
        "id": "RzfI_VOCeOL7",
        "colab_type": "code",
        "colab": {}
      },
      "source": [
        "import openai\n",
        "openai.api_key = \"\""
      ],
      "execution_count": 4,
      "outputs": []
    },
    {
      "cell_type": "markdown",
      "metadata": {
        "id": "iO4cHE9qeccR",
        "colab_type": "text"
      },
      "source": [
        "# Test #1, IMBD Movie Review Dataset\n",
        "\n",
        "* Downloaded from [Kaggle](https://www.kaggle.com/lakshmi25npathi/imdb-dataset-of-50k-movie-reviews?select=IMDB+Dataset.csv)\n",
        "* Split using a standard\n",
        " ```\n",
        " train, test = train_test_split(df, train_size=0.80, test_size=0.20, random_state=42)\n",
        " ```\n"
      ]
    },
    {
      "cell_type": "markdown",
      "metadata": {
        "id": "B8VLIODbgR9y",
        "colab_type": "text"
      },
      "source": [
        "## Load in the real training and test data"
      ]
    },
    {
      "cell_type": "code",
      "metadata": {
        "id": "030f-yH4fbfw",
        "colab_type": "code",
        "colab": {}
      },
      "source": [
        "import pandas as pd"
      ],
      "execution_count": 5,
      "outputs": []
    },
    {
      "cell_type": "code",
      "metadata": {
        "id": "nxisKbepeOkl",
        "colab_type": "code",
        "colab": {
          "base_uri": "https://localhost:8080/",
          "height": 357
        },
        "outputId": "4e9c3f82-bf9c-4742-c1e0-ee6eb8eb9a86"
      },
      "source": [
        "!wget 'https://github.com/worldwidekatie/GPT3_Synthetic/blob/master/imbd_train.zip?raw=true'"
      ],
      "execution_count": 6,
      "outputs": [
        {
          "output_type": "stream",
          "text": [
            "--2020-08-05 01:40:54--  https://github.com/worldwidekatie/GPT3_Synthetic/blob/master/imbd_train.zip?raw=true\n",
            "Resolving github.com (github.com)... 140.82.112.4\n",
            "Connecting to github.com (github.com)|140.82.112.4|:443... connected.\n",
            "HTTP request sent, awaiting response... 302 Found\n",
            "Location: https://github.com/worldwidekatie/GPT3_Synthetic/raw/master/imbd_train.zip [following]\n",
            "--2020-08-05 01:40:54--  https://github.com/worldwidekatie/GPT3_Synthetic/raw/master/imbd_train.zip\n",
            "Reusing existing connection to github.com:443.\n",
            "HTTP request sent, awaiting response... 302 Found\n",
            "Location: https://raw.githubusercontent.com/worldwidekatie/GPT3_Synthetic/master/imbd_train.zip [following]\n",
            "--2020-08-05 01:40:54--  https://raw.githubusercontent.com/worldwidekatie/GPT3_Synthetic/master/imbd_train.zip\n",
            "Resolving raw.githubusercontent.com (raw.githubusercontent.com)... 151.101.0.133, 151.101.64.133, 151.101.128.133, ...\n",
            "Connecting to raw.githubusercontent.com (raw.githubusercontent.com)|151.101.0.133|:443... connected.\n",
            "HTTP request sent, awaiting response... 200 OK\n",
            "Length: 21224922 (20M) [application/zip]\n",
            "Saving to: ‘imbd_train.zip?raw=true’\n",
            "\n",
            "imbd_train.zip?raw= 100%[===================>]  20.24M  43.8MB/s    in 0.5s    \n",
            "\n",
            "2020-08-05 01:40:55 (43.8 MB/s) - ‘imbd_train.zip?raw=true’ saved [21224922/21224922]\n",
            "\n"
          ],
          "name": "stdout"
        }
      ]
    },
    {
      "cell_type": "code",
      "metadata": {
        "id": "K4ee8HN-eOiF",
        "colab_type": "code",
        "colab": {
          "base_uri": "https://localhost:8080/",
          "height": 51
        },
        "outputId": "5933ea08-ab7c-443c-efed-1c008be15a38"
      },
      "source": [
        "!unzip 'imbd_train.zip?raw=true'"
      ],
      "execution_count": 7,
      "outputs": [
        {
          "output_type": "stream",
          "text": [
            "Archive:  imbd_train.zip?raw=true\n",
            "  inflating: imbd_train              \n"
          ],
          "name": "stdout"
        }
      ]
    },
    {
      "cell_type": "code",
      "metadata": {
        "id": "3TP35tOueOfY",
        "colab_type": "code",
        "colab": {
          "base_uri": "https://localhost:8080/",
          "height": 34
        },
        "outputId": "c8bf5244-8725-4125-b01d-d4809d9b4dbb"
      },
      "source": [
        "train = pd.read_csv('imbd_train')\n",
        "train.shape"
      ],
      "execution_count": 8,
      "outputs": [
        {
          "output_type": "execute_result",
          "data": {
            "text/plain": [
              "(40000, 2)"
            ]
          },
          "metadata": {
            "tags": []
          },
          "execution_count": 8
        }
      ]
    },
    {
      "cell_type": "code",
      "metadata": {
        "id": "DdTsIRIv-t4V",
        "colab_type": "code",
        "colab": {}
      },
      "source": [
        "train = train.replace({'positive': 1, 'negative': 0})"
      ],
      "execution_count": 9,
      "outputs": []
    },
    {
      "cell_type": "code",
      "metadata": {
        "id": "6D5ikHQof23K",
        "colab_type": "code",
        "colab": {
          "base_uri": "https://localhost:8080/",
          "height": 68
        },
        "outputId": "1b76f30c-ef3d-4ef2-8358-1918ba6f65da"
      },
      "source": [
        "train['sentiment'].value_counts(normalize=True)"
      ],
      "execution_count": 10,
      "outputs": [
        {
          "output_type": "execute_result",
          "data": {
            "text/plain": [
              "0    0.500975\n",
              "1    0.499025\n",
              "Name: sentiment, dtype: float64"
            ]
          },
          "metadata": {
            "tags": []
          },
          "execution_count": 10
        }
      ]
    },
    {
      "cell_type": "code",
      "metadata": {
        "id": "vkCM6N9YeOcn",
        "colab_type": "code",
        "colab": {
          "base_uri": "https://localhost:8080/",
          "height": 34
        },
        "outputId": "57285c66-d39d-48aa-c97b-7fbea75dca4f"
      },
      "source": [
        "test = pd.read_csv('https://raw.githubusercontent.com/worldwidekatie/GPT3_Synthetic/master/imbd_test')\n",
        "test.shape"
      ],
      "execution_count": 11,
      "outputs": [
        {
          "output_type": "execute_result",
          "data": {
            "text/plain": [
              "(10000, 2)"
            ]
          },
          "metadata": {
            "tags": []
          },
          "execution_count": 11
        }
      ]
    },
    {
      "cell_type": "code",
      "metadata": {
        "id": "KHj9wuLz-40C",
        "colab_type": "code",
        "colab": {}
      },
      "source": [
        "test = test.replace({'positive': 1, 'negative': 0})"
      ],
      "execution_count": 12,
      "outputs": []
    },
    {
      "cell_type": "code",
      "metadata": {
        "id": "G7FBfXySf86G",
        "colab_type": "code",
        "colab": {
          "base_uri": "https://localhost:8080/",
          "height": 68
        },
        "outputId": "71243319-ed66-4c55-e765-cbb8ea70b1d0"
      },
      "source": [
        "test['sentiment'].value_counts(normalize=True)"
      ],
      "execution_count": 13,
      "outputs": [
        {
          "output_type": "execute_result",
          "data": {
            "text/plain": [
              "1    0.5039\n",
              "0    0.4961\n",
              "Name: sentiment, dtype: float64"
            ]
          },
          "metadata": {
            "tags": []
          },
          "execution_count": 13
        }
      ]
    },
    {
      "cell_type": "markdown",
      "metadata": {
        "id": "9bmlfXqhgXng",
        "colab_type": "text"
      },
      "source": [
        "# **Create GPT3-Generated Synthetic Dataset**"
      ]
    },
    {
      "cell_type": "markdown",
      "metadata": {
        "id": "b_t6BwUMRNQv",
        "colab_type": "text"
      },
      "source": [
        "# 1%, No Shot\n",
        "### First, take a random sample of 1% of the original training data to use as a seed."
      ]
    },
    {
      "cell_type": "code",
      "metadata": {
        "id": "FfJ2e3EReOaT",
        "colab_type": "code",
        "colab": {
          "base_uri": "https://localhost:8080/",
          "height": 34
        },
        "outputId": "f665b8b0-f63a-4544-8460-a9908b3e5ee6"
      },
      "source": [
        "train_sample = train.sample(frac=.01, replace=False, random_state=79)\n",
        "train_sample.shape"
      ],
      "execution_count": null,
      "outputs": [
        {
          "output_type": "execute_result",
          "data": {
            "text/plain": [
              "(400, 2)"
            ]
          },
          "metadata": {
            "tags": []
          },
          "execution_count": 20
        }
      ]
    },
    {
      "cell_type": "markdown",
      "metadata": {
        "id": "PvWbzlKRj6Nu",
        "colab_type": "text"
      },
      "source": [
        "### Split it into positive and negative"
      ]
    },
    {
      "cell_type": "code",
      "metadata": {
        "id": "SX_pdDbbj-Dv",
        "colab_type": "code",
        "colab": {
          "base_uri": "https://localhost:8080/",
          "height": 34
        },
        "outputId": "b626608d-ecd8-49dd-8dda-dacaec18df81"
      },
      "source": [
        "train_sample_neg = train_sample[train_sample['sentiment']=='negative']\n",
        "train_sample_neg.shape"
      ],
      "execution_count": null,
      "outputs": [
        {
          "output_type": "execute_result",
          "data": {
            "text/plain": [
              "(201, 2)"
            ]
          },
          "metadata": {
            "tags": []
          },
          "execution_count": 35
        }
      ]
    },
    {
      "cell_type": "code",
      "metadata": {
        "id": "k8O34q4Hj-b_",
        "colab_type": "code",
        "colab": {
          "base_uri": "https://localhost:8080/",
          "height": 34
        },
        "outputId": "3f4f9503-f735-440d-ed0c-61cf27aadc6b"
      },
      "source": [
        "train_sample_pos = train_sample[train_sample['sentiment']=='positive']\n",
        "train_sample_pos.shape"
      ],
      "execution_count": null,
      "outputs": [
        {
          "output_type": "execute_result",
          "data": {
            "text/plain": [
              "(199, 2)"
            ]
          },
          "metadata": {
            "tags": []
          },
          "execution_count": 36
        }
      ]
    },
    {
      "cell_type": "markdown",
      "metadata": {
        "id": "k7CvIgadi7PP",
        "colab_type": "text"
      },
      "source": [
        "### Find the mean to use for max tokens in the data generation function"
      ]
    },
    {
      "cell_type": "code",
      "metadata": {
        "id": "JbM66RwteOWA",
        "colab_type": "code",
        "colab": {
          "base_uri": "https://localhost:8080/",
          "height": 287
        },
        "outputId": "58ea1cca-7a20-4bc5-a6a3-d4abff1970f2"
      },
      "source": [
        "num_tokens = []\n",
        "for i in train['review']:\n",
        "  tokens = []\n",
        "  splt = i.split(\" \")\n",
        "  for i in splt:\n",
        "    tokens.append(i)\n",
        "  num_tokens.append(len(tokens))\n",
        "\n",
        "num_tokens = pd.DataFrame(num_tokens)\n",
        "num_tokens.describe()"
      ],
      "execution_count": null,
      "outputs": [
        {
          "output_type": "execute_result",
          "data": {
            "text/html": [
              "<div>\n",
              "<style scoped>\n",
              "    .dataframe tbody tr th:only-of-type {\n",
              "        vertical-align: middle;\n",
              "    }\n",
              "\n",
              "    .dataframe tbody tr th {\n",
              "        vertical-align: top;\n",
              "    }\n",
              "\n",
              "    .dataframe thead th {\n",
              "        text-align: right;\n",
              "    }\n",
              "</style>\n",
              "<table border=\"1\" class=\"dataframe\">\n",
              "  <thead>\n",
              "    <tr style=\"text-align: right;\">\n",
              "      <th></th>\n",
              "      <th>0</th>\n",
              "    </tr>\n",
              "  </thead>\n",
              "  <tbody>\n",
              "    <tr>\n",
              "      <th>count</th>\n",
              "      <td>40000.000000</td>\n",
              "    </tr>\n",
              "    <tr>\n",
              "      <th>mean</th>\n",
              "      <td>230.995825</td>\n",
              "    </tr>\n",
              "    <tr>\n",
              "      <th>std</th>\n",
              "      <td>171.595625</td>\n",
              "    </tr>\n",
              "    <tr>\n",
              "      <th>min</th>\n",
              "      <td>4.000000</td>\n",
              "    </tr>\n",
              "    <tr>\n",
              "      <th>25%</th>\n",
              "      <td>126.000000</td>\n",
              "    </tr>\n",
              "    <tr>\n",
              "      <th>50%</th>\n",
              "      <td>173.000000</td>\n",
              "    </tr>\n",
              "    <tr>\n",
              "      <th>75%</th>\n",
              "      <td>280.000000</td>\n",
              "    </tr>\n",
              "    <tr>\n",
              "      <th>max</th>\n",
              "      <td>2470.000000</td>\n",
              "    </tr>\n",
              "  </tbody>\n",
              "</table>\n",
              "</div>"
            ],
            "text/plain": [
              "                  0\n",
              "count  40000.000000\n",
              "mean     230.995825\n",
              "std      171.595625\n",
              "min        4.000000\n",
              "25%      126.000000\n",
              "50%      173.000000\n",
              "75%      280.000000\n",
              "max     2470.000000"
            ]
          },
          "metadata": {
            "tags": []
          },
          "execution_count": 26
        }
      ]
    },
    {
      "cell_type": "markdown",
      "metadata": {
        "id": "u8hCqAFZkp3s",
        "colab_type": "text"
      },
      "source": [
        "### Create the function to generate synthetic data from OpenAI"
      ]
    },
    {
      "cell_type": "code",
      "metadata": {
        "id": "CDWkYELGeOYC",
        "colab_type": "code",
        "colab": {}
      },
      "source": [
        "def gen_data(df_column):\n",
        "  data = []\n",
        "  for i in df_column:\n",
        "    response = openai.Completion.create(engine=\"ada\", prompt=i, \n",
        "                                    max_tokens=231, temperature=.9, top_p=1, n=100, \n",
        "                                    stream=False)\n",
        "    for i in response['choices']:\n",
        "      data.append(i['text'])\n",
        "  return data"
      ],
      "execution_count": null,
      "outputs": []
    },
    {
      "cell_type": "markdown",
      "metadata": {
        "id": "46cYST7CkuZA",
        "colab_type": "text"
      },
      "source": [
        "### Generate synthetic negative review data."
      ]
    },
    {
      "cell_type": "code",
      "metadata": {
        "id": "Xyx9FzQqkSGO",
        "colab_type": "code",
        "colab": {
          "base_uri": "https://localhost:8080/",
          "height": 34
        },
        "outputId": "efb755b0-5349-4b32-d7a0-b347a76230df"
      },
      "source": [
        "synth_data_neg = gen_data(train_sample_neg['review'])\n",
        "len(synth_data_neg)"
      ],
      "execution_count": null,
      "outputs": [
        {
          "output_type": "execute_result",
          "data": {
            "text/plain": [
              "20100"
            ]
          },
          "metadata": {
            "tags": []
          },
          "execution_count": 38
        }
      ]
    },
    {
      "cell_type": "code",
      "metadata": {
        "id": "D0j4USl0eOTC",
        "colab_type": "code",
        "colab": {}
      },
      "source": [
        "synth_train_neg = pd.DataFrame(synth_data_neg, columns=['review'])"
      ],
      "execution_count": null,
      "outputs": []
    },
    {
      "cell_type": "code",
      "metadata": {
        "id": "zXvMsIGsjtiI",
        "colab_type": "code",
        "colab": {
          "base_uri": "https://localhost:8080/",
          "height": 406
        },
        "outputId": "1ed4d735-2c36-471d-be95-f7aa6e07e264"
      },
      "source": [
        "synth_train_neg['sentiment'] = 'negative'\n",
        "synth_train_neg"
      ],
      "execution_count": null,
      "outputs": [
        {
          "output_type": "execute_result",
          "data": {
            "text/html": [
              "<div>\n",
              "<style scoped>\n",
              "    .dataframe tbody tr th:only-of-type {\n",
              "        vertical-align: middle;\n",
              "    }\n",
              "\n",
              "    .dataframe tbody tr th {\n",
              "        vertical-align: top;\n",
              "    }\n",
              "\n",
              "    .dataframe thead th {\n",
              "        text-align: right;\n",
              "    }\n",
              "</style>\n",
              "<table border=\"1\" class=\"dataframe\">\n",
              "  <thead>\n",
              "    <tr style=\"text-align: right;\">\n",
              "      <th></th>\n",
              "      <th>review</th>\n",
              "      <th>sentiment</th>\n",
              "    </tr>\n",
              "  </thead>\n",
              "  <tbody>\n",
              "    <tr>\n",
              "      <th>0</th>\n",
              "      <td>You just might be looking at a proper race to...</td>\n",
              "      <td>negative</td>\n",
              "    </tr>\n",
              "    <tr>\n",
              "      <th>1</th>\n",
              "      <td>\\n\\n6.0 out of 5 stars Plus one - an ingenious...</td>\n",
              "      <td>negative</td>\n",
              "    </tr>\n",
              "    <tr>\n",
              "      <th>2</th>\n",
              "      <td>Be your usual professional and watch the othe...</td>\n",
              "      <td>negative</td>\n",
              "    </tr>\n",
              "    <tr>\n",
              "      <th>3</th>\n",
              "      <td>&lt;br /&gt;&lt;br /&gt;So sit back and enjoy a man who w...</td>\n",
              "      <td>negative</td>\n",
              "    </tr>\n",
              "    <tr>\n",
              "      <th>4</th>\n",
              "      <td></td>\n",
              "      <td>negative</td>\n",
              "    </tr>\n",
              "    <tr>\n",
              "      <th>...</th>\n",
              "      <td>...</td>\n",
              "      <td>...</td>\n",
              "    </tr>\n",
              "    <tr>\n",
              "      <th>20095</th>\n",
              "      <td></td>\n",
              "      <td>negative</td>\n",
              "    </tr>\n",
              "    <tr>\n",
              "      <th>20096</th>\n",
              "      <td>The book is free - buy it. A few of the review...</td>\n",
              "      <td>negative</td>\n",
              "    </tr>\n",
              "    <tr>\n",
              "      <th>20097</th>\n",
              "      <td></td>\n",
              "      <td>negative</td>\n",
              "    </tr>\n",
              "    <tr>\n",
              "      <th>20098</th>\n",
              "      <td>KiA</td>\n",
              "      <td>negative</td>\n",
              "    </tr>\n",
              "    <tr>\n",
              "      <th>20099</th>\n",
              "      <td>I was appalled to read that Nickelodeon are go...</td>\n",
              "      <td>negative</td>\n",
              "    </tr>\n",
              "  </tbody>\n",
              "</table>\n",
              "<p>20100 rows × 2 columns</p>\n",
              "</div>"
            ],
            "text/plain": [
              "                                                  review sentiment\n",
              "0       You just might be looking at a proper race to...  negative\n",
              "1      \\n\\n6.0 out of 5 stars Plus one - an ingenious...  negative\n",
              "2       Be your usual professional and watch the othe...  negative\n",
              "3       <br /><br />So sit back and enjoy a man who w...  negative\n",
              "4                                                         negative\n",
              "...                                                  ...       ...\n",
              "20095                                                     negative\n",
              "20096  The book is free - buy it. A few of the review...  negative\n",
              "20097                                                     negative\n",
              "20098                                                KiA  negative\n",
              "20099  I was appalled to read that Nickelodeon are go...  negative\n",
              "\n",
              "[20100 rows x 2 columns]"
            ]
          },
          "metadata": {
            "tags": []
          },
          "execution_count": 40
        }
      ]
    },
    {
      "cell_type": "code",
      "metadata": {
        "id": "aWYl1WMGeOQW",
        "colab_type": "code",
        "colab": {}
      },
      "source": [
        "synth_train_neg.to_csv('gpt3_imbd_neg.csv')"
      ],
      "execution_count": null,
      "outputs": []
    },
    {
      "cell_type": "code",
      "metadata": {
        "id": "w42Edj0-jTXv",
        "colab_type": "code",
        "colab": {
          "base_uri": "https://localhost:8080/",
          "height": 16
        },
        "outputId": "e77afc0a-0710-4502-8467-12c3cdef7cf6"
      },
      "source": [
        "from google.colab import files\n",
        "files.download('gpt3_imbd_neg.csv')"
      ],
      "execution_count": null,
      "outputs": [
        {
          "output_type": "display_data",
          "data": {
            "application/javascript": [
              "\n",
              "    async function download(id, filename, size) {\n",
              "      if (!google.colab.kernel.accessAllowed) {\n",
              "        return;\n",
              "      }\n",
              "      const div = document.createElement('div');\n",
              "      const label = document.createElement('label');\n",
              "      label.textContent = `Downloading \"${filename}\": `;\n",
              "      div.appendChild(label);\n",
              "      const progress = document.createElement('progress');\n",
              "      progress.max = size;\n",
              "      div.appendChild(progress);\n",
              "      document.body.appendChild(div);\n",
              "\n",
              "      const buffers = [];\n",
              "      let downloaded = 0;\n",
              "\n",
              "      const channel = await google.colab.kernel.comms.open(id);\n",
              "      // Send a message to notify the kernel that we're ready.\n",
              "      channel.send({})\n",
              "\n",
              "      for await (const message of channel.messages) {\n",
              "        // Send a message to notify the kernel that we're ready.\n",
              "        channel.send({})\n",
              "        if (message.buffers) {\n",
              "          for (const buffer of message.buffers) {\n",
              "            buffers.push(buffer);\n",
              "            downloaded += buffer.byteLength;\n",
              "            progress.value = downloaded;\n",
              "          }\n",
              "        }\n",
              "      }\n",
              "      const blob = new Blob(buffers, {type: 'application/binary'});\n",
              "      const a = document.createElement('a');\n",
              "      a.href = window.URL.createObjectURL(blob);\n",
              "      a.download = filename;\n",
              "      div.appendChild(a);\n",
              "      a.click();\n",
              "      div.remove();\n",
              "    }\n",
              "  "
            ],
            "text/plain": [
              "<IPython.core.display.Javascript object>"
            ]
          },
          "metadata": {
            "tags": []
          }
        },
        {
          "output_type": "display_data",
          "data": {
            "application/javascript": [
              "download(\"download_2144124b-9542-494e-a123-e917c8b4f29b\", \"gpt3_imbd_neg.csv\", 11510093)"
            ],
            "text/plain": [
              "<IPython.core.display.Javascript object>"
            ]
          },
          "metadata": {
            "tags": []
          }
        }
      ]
    },
    {
      "cell_type": "markdown",
      "metadata": {
        "id": "1CUFaD5Olsby",
        "colab_type": "text"
      },
      "source": [
        "### Generate synthetic positive review data."
      ]
    },
    {
      "cell_type": "code",
      "metadata": {
        "id": "TGNzi9U_jTTG",
        "colab_type": "code",
        "colab": {
          "base_uri": "https://localhost:8080/",
          "height": 34
        },
        "outputId": "a68ab429-9568-4b72-dc25-bda22c702609"
      },
      "source": [
        "synth_data_pos = gen_data(train_sample_pos['review'])\n",
        "len(synth_data_pos)"
      ],
      "execution_count": null,
      "outputs": [
        {
          "output_type": "execute_result",
          "data": {
            "text/plain": [
              "19900"
            ]
          },
          "metadata": {
            "tags": []
          },
          "execution_count": 43
        }
      ]
    },
    {
      "cell_type": "code",
      "metadata": {
        "id": "vZb7_yQ_jTPj",
        "colab_type": "code",
        "colab": {}
      },
      "source": [
        "synth_train_pos = pd.DataFrame(synth_data_pos, columns=['review'])"
      ],
      "execution_count": null,
      "outputs": []
    },
    {
      "cell_type": "code",
      "metadata": {
        "id": "171rwRb_l_aS",
        "colab_type": "code",
        "colab": {
          "base_uri": "https://localhost:8080/",
          "height": 406
        },
        "outputId": "05c68fc1-d5a2-4144-b18f-53615409ce18"
      },
      "source": [
        "synth_train_pos['sentiment'] = 'positive'\n",
        "synth_train_pos"
      ],
      "execution_count": null,
      "outputs": [
        {
          "output_type": "execute_result",
          "data": {
            "text/html": [
              "<div>\n",
              "<style scoped>\n",
              "    .dataframe tbody tr th:only-of-type {\n",
              "        vertical-align: middle;\n",
              "    }\n",
              "\n",
              "    .dataframe tbody tr th {\n",
              "        vertical-align: top;\n",
              "    }\n",
              "\n",
              "    .dataframe thead th {\n",
              "        text-align: right;\n",
              "    }\n",
              "</style>\n",
              "<table border=\"1\" class=\"dataframe\">\n",
              "  <thead>\n",
              "    <tr style=\"text-align: right;\">\n",
              "      <th></th>\n",
              "      <th>review</th>\n",
              "      <th>sentiment</th>\n",
              "    </tr>\n",
              "  </thead>\n",
              "  <tbody>\n",
              "    <tr>\n",
              "      <th>0</th>\n",
              "      <td></td>\n",
              "      <td>positive</td>\n",
              "    </tr>\n",
              "    <tr>\n",
              "      <th>1</th>\n",
              "      <td>The Man who Shot Martinsons is a very well mad...</td>\n",
              "      <td>positive</td>\n",
              "    </tr>\n",
              "    <tr>\n",
              "      <th>2</th>\n",
              "      <td>But Cordova's also one of the few actors worki...</td>\n",
              "      <td>positive</td>\n",
              "    </tr>\n",
              "    <tr>\n",
              "      <th>3</th>\n",
              "      <td>The music in the film is pretty amazing, espec...</td>\n",
              "      <td>positive</td>\n",
              "    </tr>\n",
              "    <tr>\n",
              "      <th>4</th>\n",
              "      <td>It's not an easy film to enjoy and I wouldn't ...</td>\n",
              "      <td>positive</td>\n",
              "    </tr>\n",
              "    <tr>\n",
              "      <th>...</th>\n",
              "      <td>...</td>\n",
              "      <td>...</td>\n",
              "    </tr>\n",
              "    <tr>\n",
              "      <th>19895</th>\n",
              "      <td>(And that's a serious observation - not exact...</td>\n",
              "      <td>positive</td>\n",
              "    </tr>\n",
              "    <tr>\n",
              "      <th>19896</th>\n",
              "      <td>It's much more hilarious than if you just wat...</td>\n",
              "      <td>positive</td>\n",
              "    </tr>\n",
              "    <tr>\n",
              "      <th>19897</th>\n",
              "      <td>\\n\\nRated 5 out of 5 stars (472) Rank: #1 Revi...</td>\n",
              "      <td>positive</td>\n",
              "    </tr>\n",
              "    <tr>\n",
              "      <th>19898</th>\n",
              "      <td>Throw Momma from the Train is a fun comedy, b...</td>\n",
              "      <td>positive</td>\n",
              "    </tr>\n",
              "    <tr>\n",
              "      <th>19899</th>\n",
              "      <td>If you have been looking for a sort of \"Hitch...</td>\n",
              "      <td>positive</td>\n",
              "    </tr>\n",
              "  </tbody>\n",
              "</table>\n",
              "<p>19900 rows × 2 columns</p>\n",
              "</div>"
            ],
            "text/plain": [
              "                                                  review sentiment\n",
              "0                                                         positive\n",
              "1      The Man who Shot Martinsons is a very well mad...  positive\n",
              "2      But Cordova's also one of the few actors worki...  positive\n",
              "3      The music in the film is pretty amazing, espec...  positive\n",
              "4      It's not an easy film to enjoy and I wouldn't ...  positive\n",
              "...                                                  ...       ...\n",
              "19895   (And that's a serious observation - not exact...  positive\n",
              "19896   It's much more hilarious than if you just wat...  positive\n",
              "19897  \\n\\nRated 5 out of 5 stars (472) Rank: #1 Revi...  positive\n",
              "19898   Throw Momma from the Train is a fun comedy, b...  positive\n",
              "19899   If you have been looking for a sort of \"Hitch...  positive\n",
              "\n",
              "[19900 rows x 2 columns]"
            ]
          },
          "metadata": {
            "tags": []
          },
          "execution_count": 45
        }
      ]
    },
    {
      "cell_type": "code",
      "metadata": {
        "id": "1RdemUmamDlI",
        "colab_type": "code",
        "colab": {}
      },
      "source": [
        "synth_train_pos.to_csv('gpt3_imbd_pos.csv')"
      ],
      "execution_count": null,
      "outputs": []
    },
    {
      "cell_type": "code",
      "metadata": {
        "id": "yQ9mxLrcmMxz",
        "colab_type": "code",
        "colab": {
          "base_uri": "https://localhost:8080/",
          "height": 16
        },
        "outputId": "a651311c-fd13-4e33-c648-79dfa1889e65"
      },
      "source": [
        "from google.colab import files\n",
        "files.download('gpt3_imbd_pos.csv')"
      ],
      "execution_count": null,
      "outputs": [
        {
          "output_type": "display_data",
          "data": {
            "application/javascript": [
              "\n",
              "    async function download(id, filename, size) {\n",
              "      if (!google.colab.kernel.accessAllowed) {\n",
              "        return;\n",
              "      }\n",
              "      const div = document.createElement('div');\n",
              "      const label = document.createElement('label');\n",
              "      label.textContent = `Downloading \"${filename}\": `;\n",
              "      div.appendChild(label);\n",
              "      const progress = document.createElement('progress');\n",
              "      progress.max = size;\n",
              "      div.appendChild(progress);\n",
              "      document.body.appendChild(div);\n",
              "\n",
              "      const buffers = [];\n",
              "      let downloaded = 0;\n",
              "\n",
              "      const channel = await google.colab.kernel.comms.open(id);\n",
              "      // Send a message to notify the kernel that we're ready.\n",
              "      channel.send({})\n",
              "\n",
              "      for await (const message of channel.messages) {\n",
              "        // Send a message to notify the kernel that we're ready.\n",
              "        channel.send({})\n",
              "        if (message.buffers) {\n",
              "          for (const buffer of message.buffers) {\n",
              "            buffers.push(buffer);\n",
              "            downloaded += buffer.byteLength;\n",
              "            progress.value = downloaded;\n",
              "          }\n",
              "        }\n",
              "      }\n",
              "      const blob = new Blob(buffers, {type: 'application/binary'});\n",
              "      const a = document.createElement('a');\n",
              "      a.href = window.URL.createObjectURL(blob);\n",
              "      a.download = filename;\n",
              "      div.appendChild(a);\n",
              "      a.click();\n",
              "      div.remove();\n",
              "    }\n",
              "  "
            ],
            "text/plain": [
              "<IPython.core.display.Javascript object>"
            ]
          },
          "metadata": {
            "tags": []
          }
        },
        {
          "output_type": "display_data",
          "data": {
            "application/javascript": [
              "download(\"download_e837d176-3339-4635-8b83-8beb0dc7fd0d\", \"gpt3_imbd_pos.csv\", 10935636)"
            ],
            "text/plain": [
              "<IPython.core.display.Javascript object>"
            ]
          },
          "metadata": {
            "tags": []
          }
        }
      ]
    },
    {
      "cell_type": "markdown",
      "metadata": {
        "id": "v_kN-CTtmSF1",
        "colab_type": "text"
      },
      "source": [
        "### Concatonate them for one large training dataset."
      ]
    },
    {
      "cell_type": "code",
      "metadata": {
        "id": "_MMQ4___mQRU",
        "colab_type": "code",
        "colab": {}
      },
      "source": [
        "gpt_train = pd.concat([synth_train_pos, synth_train_neg])"
      ],
      "execution_count": null,
      "outputs": []
    },
    {
      "cell_type": "code",
      "metadata": {
        "id": "bA5JHU1cmkKS",
        "colab_type": "code",
        "colab": {}
      },
      "source": [
        "gpt_train.to_csv('gpt3_imbd_train1.csv', index=False)"
      ],
      "execution_count": null,
      "outputs": []
    },
    {
      "cell_type": "code",
      "metadata": {
        "id": "0rObXlSomexK",
        "colab_type": "code",
        "colab": {
          "base_uri": "https://localhost:8080/",
          "height": 16
        },
        "outputId": "e204244a-9594-4172-9146-18849bb8a116"
      },
      "source": [
        "from google.colab import files\n",
        "files.download('gpt3_imbd_train1.csv')"
      ],
      "execution_count": null,
      "outputs": [
        {
          "output_type": "display_data",
          "data": {
            "application/javascript": [
              "\n",
              "    async function download(id, filename, size) {\n",
              "      if (!google.colab.kernel.accessAllowed) {\n",
              "        return;\n",
              "      }\n",
              "      const div = document.createElement('div');\n",
              "      const label = document.createElement('label');\n",
              "      label.textContent = `Downloading \"${filename}\": `;\n",
              "      div.appendChild(label);\n",
              "      const progress = document.createElement('progress');\n",
              "      progress.max = size;\n",
              "      div.appendChild(progress);\n",
              "      document.body.appendChild(div);\n",
              "\n",
              "      const buffers = [];\n",
              "      let downloaded = 0;\n",
              "\n",
              "      const channel = await google.colab.kernel.comms.open(id);\n",
              "      // Send a message to notify the kernel that we're ready.\n",
              "      channel.send({})\n",
              "\n",
              "      for await (const message of channel.messages) {\n",
              "        // Send a message to notify the kernel that we're ready.\n",
              "        channel.send({})\n",
              "        if (message.buffers) {\n",
              "          for (const buffer of message.buffers) {\n",
              "            buffers.push(buffer);\n",
              "            downloaded += buffer.byteLength;\n",
              "            progress.value = downloaded;\n",
              "          }\n",
              "        }\n",
              "      }\n",
              "      const blob = new Blob(buffers, {type: 'application/binary'});\n",
              "      const a = document.createElement('a');\n",
              "      a.href = window.URL.createObjectURL(blob);\n",
              "      a.download = filename;\n",
              "      div.appendChild(a);\n",
              "      a.click();\n",
              "      div.remove();\n",
              "    }\n",
              "  "
            ],
            "text/plain": [
              "<IPython.core.display.Javascript object>"
            ]
          },
          "metadata": {
            "tags": []
          }
        },
        {
          "output_type": "display_data",
          "data": {
            "application/javascript": [
              "download(\"download_b346a7b2-10ce-4a37-818a-98b73762cabc\", \"gpt3_imbd_train1.csv\", 22227930)"
            ],
            "text/plain": [
              "<IPython.core.display.Javascript object>"
            ]
          },
          "metadata": {
            "tags": []
          }
        }
      ]
    },
    {
      "cell_type": "code",
      "metadata": {
        "id": "Ixq98mRDt_-V",
        "colab_type": "code",
        "colab": {
          "base_uri": "https://localhost:8080/",
          "height": 34
        },
        "outputId": "bc949c44-fea0-419c-89cf-8b6bff7ca471"
      },
      "source": [
        "gpt_train.shape"
      ],
      "execution_count": null,
      "outputs": [
        {
          "output_type": "execute_result",
          "data": {
            "text/plain": [
              "(40000, 2)"
            ]
          },
          "metadata": {
            "tags": []
          },
          "execution_count": 61
        }
      ]
    },
    {
      "cell_type": "code",
      "metadata": {
        "id": "0k_uDK_VuDDY",
        "colab_type": "code",
        "colab": {
          "base_uri": "https://localhost:8080/",
          "height": 70
        },
        "outputId": "6583e9a8-454d-45f4-cce7-5412efa060c0"
      },
      "source": [
        "gpt_train['sentiment'].value_counts(normalize=True)"
      ],
      "execution_count": null,
      "outputs": [
        {
          "output_type": "execute_result",
          "data": {
            "text/plain": [
              "negative    0.5025\n",
              "positive    0.4975\n",
              "Name: sentiment, dtype: float64"
            ]
          },
          "metadata": {
            "tags": []
          },
          "execution_count": 63
        }
      ]
    },
    {
      "cell_type": "markdown",
      "metadata": {
        "colab_type": "text",
        "id": "qIQI1UBHSGeX"
      },
      "source": [
        "# 1%, Two Shots\n",
        "### First, take a random sample of 1% of the original training data to use as a seed."
      ]
    },
    {
      "cell_type": "code",
      "metadata": {
        "colab_type": "code",
        "id": "xvRD_7n7SGeY",
        "colab": {
          "base_uri": "https://localhost:8080/",
          "height": 34
        },
        "outputId": "6e89516a-56bc-457d-e878-fbbf93035a46"
      },
      "source": [
        "train_sample = train.sample(frac=.01, replace=False, random_state=79)\n",
        "train_sample.shape"
      ],
      "execution_count": 14,
      "outputs": [
        {
          "output_type": "execute_result",
          "data": {
            "text/plain": [
              "(400, 2)"
            ]
          },
          "metadata": {
            "tags": []
          },
          "execution_count": 14
        }
      ]
    },
    {
      "cell_type": "markdown",
      "metadata": {
        "colab_type": "text",
        "id": "RkQMT4wySGec"
      },
      "source": [
        "### Split it into positive and negative"
      ]
    },
    {
      "cell_type": "code",
      "metadata": {
        "colab_type": "code",
        "id": "UOfewljrSGed",
        "colab": {
          "base_uri": "https://localhost:8080/",
          "height": 34
        },
        "outputId": "2a7ba208-3bde-4d34-8394-87cb8262b10d"
      },
      "source": [
        "train_sample_neg = train_sample[train_sample['sentiment']==0]\n",
        "train_sample_neg.shape"
      ],
      "execution_count": 92,
      "outputs": [
        {
          "output_type": "execute_result",
          "data": {
            "text/plain": [
              "(201, 2)"
            ]
          },
          "metadata": {
            "tags": []
          },
          "execution_count": 92
        }
      ]
    },
    {
      "cell_type": "code",
      "metadata": {
        "colab_type": "code",
        "id": "i4eFUBRnSGef",
        "colab": {
          "base_uri": "https://localhost:8080/",
          "height": 34
        },
        "outputId": "70123c23-610a-4290-d2a7-e57f051e38b5"
      },
      "source": [
        "train_sample_pos = train_sample[train_sample['sentiment']==1]\n",
        "train_sample_pos.shape"
      ],
      "execution_count": 93,
      "outputs": [
        {
          "output_type": "execute_result",
          "data": {
            "text/plain": [
              "(199, 2)"
            ]
          },
          "metadata": {
            "tags": []
          },
          "execution_count": 93
        }
      ]
    },
    {
      "cell_type": "markdown",
      "metadata": {
        "colab_type": "text",
        "id": "uHQeCqWISGeh"
      },
      "source": [
        "### Find the mean to use for max tokens in the data generation function"
      ]
    },
    {
      "cell_type": "code",
      "metadata": {
        "colab_type": "code",
        "id": "lXVfxMhlSGeh",
        "colab": {
          "base_uri": "https://localhost:8080/",
          "height": 287
        },
        "outputId": "58ea1cca-7a20-4bc5-a6a3-d4abff1970f2"
      },
      "source": [
        "num_tokens = []\n",
        "for i in train['review']:\n",
        "  tokens = []\n",
        "  splt = i.split(\" \")\n",
        "  for i in splt:\n",
        "    tokens.append(i)\n",
        "  num_tokens.append(len(tokens))\n",
        "\n",
        "num_tokens = pd.DataFrame(num_tokens)\n",
        "num_tokens.describe()"
      ],
      "execution_count": null,
      "outputs": [
        {
          "output_type": "execute_result",
          "data": {
            "text/html": [
              "<div>\n",
              "<style scoped>\n",
              "    .dataframe tbody tr th:only-of-type {\n",
              "        vertical-align: middle;\n",
              "    }\n",
              "\n",
              "    .dataframe tbody tr th {\n",
              "        vertical-align: top;\n",
              "    }\n",
              "\n",
              "    .dataframe thead th {\n",
              "        text-align: right;\n",
              "    }\n",
              "</style>\n",
              "<table border=\"1\" class=\"dataframe\">\n",
              "  <thead>\n",
              "    <tr style=\"text-align: right;\">\n",
              "      <th></th>\n",
              "      <th>0</th>\n",
              "    </tr>\n",
              "  </thead>\n",
              "  <tbody>\n",
              "    <tr>\n",
              "      <th>count</th>\n",
              "      <td>40000.000000</td>\n",
              "    </tr>\n",
              "    <tr>\n",
              "      <th>mean</th>\n",
              "      <td>230.995825</td>\n",
              "    </tr>\n",
              "    <tr>\n",
              "      <th>std</th>\n",
              "      <td>171.595625</td>\n",
              "    </tr>\n",
              "    <tr>\n",
              "      <th>min</th>\n",
              "      <td>4.000000</td>\n",
              "    </tr>\n",
              "    <tr>\n",
              "      <th>25%</th>\n",
              "      <td>126.000000</td>\n",
              "    </tr>\n",
              "    <tr>\n",
              "      <th>50%</th>\n",
              "      <td>173.000000</td>\n",
              "    </tr>\n",
              "    <tr>\n",
              "      <th>75%</th>\n",
              "      <td>280.000000</td>\n",
              "    </tr>\n",
              "    <tr>\n",
              "      <th>max</th>\n",
              "      <td>2470.000000</td>\n",
              "    </tr>\n",
              "  </tbody>\n",
              "</table>\n",
              "</div>"
            ],
            "text/plain": [
              "                  0\n",
              "count  40000.000000\n",
              "mean     230.995825\n",
              "std      171.595625\n",
              "min        4.000000\n",
              "25%      126.000000\n",
              "50%      173.000000\n",
              "75%      280.000000\n",
              "max     2470.000000"
            ]
          },
          "metadata": {
            "tags": []
          },
          "execution_count": 26
        }
      ]
    },
    {
      "cell_type": "markdown",
      "metadata": {
        "colab_type": "text",
        "id": "lFEtQmESSGej"
      },
      "source": [
        "### Create the function to generate synthetic data from OpenAI"
      ]
    },
    {
      "cell_type": "code",
      "metadata": {
        "id": "izGbUvBnT5Eq",
        "colab_type": "code",
        "colab": {}
      },
      "source": [
        "import random\n",
        "import numpy as np"
      ],
      "execution_count": 68,
      "outputs": []
    },
    {
      "cell_type": "code",
      "metadata": {
        "id": "4l7kEImdUumH",
        "colab_type": "code",
        "colab": {}
      },
      "source": [
        "test_df = train_sample_neg['review'].head()"
      ],
      "execution_count": 26,
      "outputs": []
    },
    {
      "cell_type": "code",
      "metadata": {
        "colab_type": "code",
        "id": "cgkRB4TTSGej",
        "colab": {}
      },
      "source": [
        "def gen_data(df_column):\n",
        "  data = []\n",
        "  var = list(df_column)\n",
        "  for i in var:\n",
        "    x = pd.DataFrame([var[random.randrange(len(var))], i])\n",
        "    \n",
        "    response = openai.Completion.create(engine=\"ada\", prompt=list(x), \n",
        "                                    max_tokens=231, temperature=.9, top_p=1, n=100, \n",
        "                                    stream=False)\n",
        "    for i in response['choices']:\n",
        "      data.append(i['text'])\n",
        "  return data"
      ],
      "execution_count": 88,
      "outputs": []
    },
    {
      "cell_type": "markdown",
      "metadata": {
        "colab_type": "text",
        "id": "E7g-mkJqSGem"
      },
      "source": [
        "### Generate synthetic negative review data."
      ]
    },
    {
      "cell_type": "code",
      "metadata": {
        "colab_type": "code",
        "id": "Neax_fRMSGem",
        "colab": {
          "base_uri": "https://localhost:8080/",
          "height": 34
        },
        "outputId": "06b5520f-62b9-4a1e-ca4f-84f8883bfdc8"
      },
      "source": [
        "synth_data_neg = gen_data(train_sample_neg['review'])\n",
        "len(synth_data_neg)"
      ],
      "execution_count": 94,
      "outputs": [
        {
          "output_type": "execute_result",
          "data": {
            "text/plain": [
              "20100"
            ]
          },
          "metadata": {
            "tags": []
          },
          "execution_count": 94
        }
      ]
    },
    {
      "cell_type": "code",
      "metadata": {
        "colab_type": "code",
        "id": "PX9UyyzDSGeo",
        "colab": {}
      },
      "source": [
        "synth_train_neg = pd.DataFrame(synth_data_neg, columns=['review'])"
      ],
      "execution_count": 95,
      "outputs": []
    },
    {
      "cell_type": "code",
      "metadata": {
        "colab_type": "code",
        "id": "TdQnKVuDSGer",
        "colab": {
          "base_uri": "https://localhost:8080/",
          "height": 419
        },
        "outputId": "932f0bc5-c85f-442b-e4c0-51f33510ff5b"
      },
      "source": [
        "synth_train_neg['sentiment'] = 0\n",
        "synth_train_neg"
      ],
      "execution_count": 96,
      "outputs": [
        {
          "output_type": "execute_result",
          "data": {
            "text/html": [
              "<div>\n",
              "<style scoped>\n",
              "    .dataframe tbody tr th:only-of-type {\n",
              "        vertical-align: middle;\n",
              "    }\n",
              "\n",
              "    .dataframe tbody tr th {\n",
              "        vertical-align: top;\n",
              "    }\n",
              "\n",
              "    .dataframe thead th {\n",
              "        text-align: right;\n",
              "    }\n",
              "</style>\n",
              "<table border=\"1\" class=\"dataframe\">\n",
              "  <thead>\n",
              "    <tr style=\"text-align: right;\">\n",
              "      <th></th>\n",
              "      <th>review</th>\n",
              "      <th>sentiment</th>\n",
              "    </tr>\n",
              "  </thead>\n",
              "  <tbody>\n",
              "    <tr>\n",
              "      <th>0</th>\n",
              "      <td>\\n\\n\\n\\nFeatured Image from Davids Store\\n\\nFo...</td>\n",
              "      <td>0</td>\n",
              "    </tr>\n",
              "    <tr>\n",
              "      <th>1</th>\n",
              "      <td>\\n\\nR = They all suck!\\n\\nA = Adventure!!\\n\\n\\...</td>\n",
              "      <td>0</td>\n",
              "    </tr>\n",
              "    <tr>\n",
              "      <th>2</th>\n",
              "      <td>Thank you Tavis Brothers! Have a great day! 😊...</td>\n",
              "      <td>0</td>\n",
              "    </tr>\n",
              "    <tr>\n",
              "      <th>3</th>\n",
              "      <td>2f[td][td][td][td][td][td][td][td][td][td][td]...</td>\n",
              "      <td>0</td>\n",
              "    </tr>\n",
              "    <tr>\n",
              "      <th>4</th>\n",
              "      <td>\\n\\n8/15/14\\n\\nYeeze Blig!\\n\\n\\n\\n\\n\\nThis onl...</td>\n",
              "      <td>0</td>\n",
              "    </tr>\n",
              "    <tr>\n",
              "      <th>...</th>\n",
              "      <td>...</td>\n",
              "      <td>...</td>\n",
              "    </tr>\n",
              "    <tr>\n",
              "      <th>20095</th>\n",
              "      <td>\\n\\nshpw – I was wondering whether a stylized ...</td>\n",
              "      <td>0</td>\n",
              "    </tr>\n",
              "    <tr>\n",
              "      <th>20096</th>\n",
              "      <td>\" \"How often do you have to send me e-mails l...</td>\n",
              "      <td>0</td>\n",
              "    </tr>\n",
              "    <tr>\n",
              "      <th>20097</th>\n",
              "      <td>\\n\\nGym ZZ\\n\\n\\n\\n“Zz” | Final | 12/20/17 @ 12...</td>\n",
              "      <td>0</td>\n",
              "    </tr>\n",
              "    <tr>\n",
              "      <th>20098</th>\n",
              "      <td>In the end the death of of child child won. 2...</td>\n",
              "      <td>0</td>\n",
              "    </tr>\n",
              "    <tr>\n",
              "      <th>20099</th>\n",
              "      <td>Is what you said true?\\n\\nYes, but that’s not...</td>\n",
              "      <td>0</td>\n",
              "    </tr>\n",
              "  </tbody>\n",
              "</table>\n",
              "<p>20100 rows × 2 columns</p>\n",
              "</div>"
            ],
            "text/plain": [
              "                                                  review  sentiment\n",
              "0      \\n\\n\\n\\nFeatured Image from Davids Store\\n\\nFo...          0\n",
              "1      \\n\\nR = They all suck!\\n\\nA = Adventure!!\\n\\n\\...          0\n",
              "2       Thank you Tavis Brothers! Have a great day! 😊...          0\n",
              "3      2f[td][td][td][td][td][td][td][td][td][td][td]...          0\n",
              "4      \\n\\n8/15/14\\n\\nYeeze Blig!\\n\\n\\n\\n\\n\\nThis onl...          0\n",
              "...                                                  ...        ...\n",
              "20095  \\n\\nshpw – I was wondering whether a stylized ...          0\n",
              "20096   \" \"How often do you have to send me e-mails l...          0\n",
              "20097  \\n\\nGym ZZ\\n\\n\\n\\n“Zz” | Final | 12/20/17 @ 12...          0\n",
              "20098   In the end the death of of child child won. 2...          0\n",
              "20099   Is what you said true?\\n\\nYes, but that’s not...          0\n",
              "\n",
              "[20100 rows x 2 columns]"
            ]
          },
          "metadata": {
            "tags": []
          },
          "execution_count": 96
        }
      ]
    },
    {
      "cell_type": "code",
      "metadata": {
        "colab_type": "code",
        "id": "Gckfo2yESGes",
        "colab": {}
      },
      "source": [
        "synth_train_neg.to_csv('gpt3_imbd_neg1.csv', index=False)"
      ],
      "execution_count": 99,
      "outputs": []
    },
    {
      "cell_type": "code",
      "metadata": {
        "colab_type": "code",
        "id": "v04wqbLCSGew",
        "colab": {
          "base_uri": "https://localhost:8080/",
          "height": 17
        },
        "outputId": "43011711-d9dd-4e39-e185-3da9c1e5daca"
      },
      "source": [
        "from google.colab import files\n",
        "files.download('gpt3_imbd_neg1.csv')"
      ],
      "execution_count": 100,
      "outputs": [
        {
          "output_type": "display_data",
          "data": {
            "application/javascript": [
              "\n",
              "    async function download(id, filename, size) {\n",
              "      if (!google.colab.kernel.accessAllowed) {\n",
              "        return;\n",
              "      }\n",
              "      const div = document.createElement('div');\n",
              "      const label = document.createElement('label');\n",
              "      label.textContent = `Downloading \"${filename}\": `;\n",
              "      div.appendChild(label);\n",
              "      const progress = document.createElement('progress');\n",
              "      progress.max = size;\n",
              "      div.appendChild(progress);\n",
              "      document.body.appendChild(div);\n",
              "\n",
              "      const buffers = [];\n",
              "      let downloaded = 0;\n",
              "\n",
              "      const channel = await google.colab.kernel.comms.open(id);\n",
              "      // Send a message to notify the kernel that we're ready.\n",
              "      channel.send({})\n",
              "\n",
              "      for await (const message of channel.messages) {\n",
              "        // Send a message to notify the kernel that we're ready.\n",
              "        channel.send({})\n",
              "        if (message.buffers) {\n",
              "          for (const buffer of message.buffers) {\n",
              "            buffers.push(buffer);\n",
              "            downloaded += buffer.byteLength;\n",
              "            progress.value = downloaded;\n",
              "          }\n",
              "        }\n",
              "      }\n",
              "      const blob = new Blob(buffers, {type: 'application/binary'});\n",
              "      const a = document.createElement('a');\n",
              "      a.href = window.URL.createObjectURL(blob);\n",
              "      a.download = filename;\n",
              "      div.appendChild(a);\n",
              "      a.click();\n",
              "      div.remove();\n",
              "    }\n",
              "  "
            ],
            "text/plain": [
              "<IPython.core.display.Javascript object>"
            ]
          },
          "metadata": {
            "tags": []
          }
        },
        {
          "output_type": "display_data",
          "data": {
            "application/javascript": [
              "download(\"download_1b7ff727-7434-495c-8ad2-279420b23db8\", \"gpt3_imbd_neg1.csv\", 14678441)"
            ],
            "text/plain": [
              "<IPython.core.display.Javascript object>"
            ]
          },
          "metadata": {
            "tags": []
          }
        }
      ]
    },
    {
      "cell_type": "markdown",
      "metadata": {
        "colab_type": "text",
        "id": "kP6kUg_gSGex"
      },
      "source": [
        "### Generate synthetic positive review data."
      ]
    },
    {
      "cell_type": "code",
      "metadata": {
        "colab_type": "code",
        "id": "OhTXyHHnSGey",
        "colab": {
          "base_uri": "https://localhost:8080/",
          "height": 34
        },
        "outputId": "7ac811dd-de4e-4754-dab5-5143216a1de2"
      },
      "source": [
        "synth_data_pos = gen_data(train_sample_pos['review'])\n",
        "len(synth_data_pos)"
      ],
      "execution_count": 101,
      "outputs": [
        {
          "output_type": "execute_result",
          "data": {
            "text/plain": [
              "19900"
            ]
          },
          "metadata": {
            "tags": []
          },
          "execution_count": 101
        }
      ]
    },
    {
      "cell_type": "code",
      "metadata": {
        "colab_type": "code",
        "id": "iDBEcNogSGe1",
        "colab": {}
      },
      "source": [
        "synth_train_pos = pd.DataFrame(synth_data_pos, columns=['review'])"
      ],
      "execution_count": 102,
      "outputs": []
    },
    {
      "cell_type": "code",
      "metadata": {
        "colab_type": "code",
        "id": "8Kf4GFSqSGe2",
        "colab": {
          "base_uri": "https://localhost:8080/",
          "height": 419
        },
        "outputId": "90932568-8019-4211-a227-b68e08efc082"
      },
      "source": [
        "synth_train_pos['sentiment'] = 1\n",
        "synth_train_pos"
      ],
      "execution_count": 103,
      "outputs": [
        {
          "output_type": "execute_result",
          "data": {
            "text/html": [
              "<div>\n",
              "<style scoped>\n",
              "    .dataframe tbody tr th:only-of-type {\n",
              "        vertical-align: middle;\n",
              "    }\n",
              "\n",
              "    .dataframe tbody tr th {\n",
              "        vertical-align: top;\n",
              "    }\n",
              "\n",
              "    .dataframe thead th {\n",
              "        text-align: right;\n",
              "    }\n",
              "</style>\n",
              "<table border=\"1\" class=\"dataframe\">\n",
              "  <thead>\n",
              "    <tr style=\"text-align: right;\">\n",
              "      <th></th>\n",
              "      <th>review</th>\n",
              "      <th>sentiment</th>\n",
              "    </tr>\n",
              "  </thead>\n",
              "  <tbody>\n",
              "    <tr>\n",
              "      <th>0</th>\n",
              "      <td>Buy a hard shell for $30 each.\\n\\n\\n\\nFinal Q...</td>\n",
              "      <td>1</td>\n",
              "    </tr>\n",
              "    <tr>\n",
              "      <th>1</th>\n",
              "      <td>John Berard's Flea Key Sesamum Indicum To Say...</td>\n",
              "      <td>1</td>\n",
              "    </tr>\n",
              "    <tr>\n",
              "      <th>2</th>\n",
              "      <td>(parallel)\\n\\nIn a device description of COM ...</td>\n",
              "      <td>1</td>\n",
              "    </tr>\n",
              "    <tr>\n",
              "      <th>3</th>\n",
              "      <td>”\\n\\n“But you hate Tom!”\\n\\n“Do I love him or ...</td>\n",
              "      <td>1</td>\n",
              "    </tr>\n",
              "    <tr>\n",
              "      <th>4</th>\n",
              "      <td>Hilarity of \"happy people!\" Ahem. How is it e...</td>\n",
              "      <td>1</td>\n",
              "    </tr>\n",
              "    <tr>\n",
              "      <th>...</th>\n",
              "      <td>...</td>\n",
              "      <td>...</td>\n",
              "    </tr>\n",
              "    <tr>\n",
              "      <th>19895</th>\n",
              "      <td>I'll settle for not finding out. \"\\n\\nWe didn...</td>\n",
              "      <td>1</td>\n",
              "    </tr>\n",
              "    <tr>\n",
              "      <th>19896</th>\n",
              "      <td>They hate you the way you are. And I'll tell ...</td>\n",
              "      <td>1</td>\n",
              "    </tr>\n",
              "    <tr>\n",
              "      <th>19897</th>\n",
              "      <td>\\n\\nTo use this interface, all you need is a C...</td>\n",
              "      <td>1</td>\n",
              "    </tr>\n",
              "    <tr>\n",
              "      <th>19898</th>\n",
              "      <td>This is more an outline, not a visual guidebo...</td>\n",
              "      <td>1</td>\n",
              "    </tr>\n",
              "    <tr>\n",
              "      <th>19899</th>\n",
              "      <td>“There is no place for anyone who would not l...</td>\n",
              "      <td>1</td>\n",
              "    </tr>\n",
              "  </tbody>\n",
              "</table>\n",
              "<p>19900 rows × 2 columns</p>\n",
              "</div>"
            ],
            "text/plain": [
              "                                                  review  sentiment\n",
              "0       Buy a hard shell for $30 each.\\n\\n\\n\\nFinal Q...          1\n",
              "1       John Berard's Flea Key Sesamum Indicum To Say...          1\n",
              "2       (parallel)\\n\\nIn a device description of COM ...          1\n",
              "3      ”\\n\\n“But you hate Tom!”\\n\\n“Do I love him or ...          1\n",
              "4       Hilarity of \"happy people!\" Ahem. How is it e...          1\n",
              "...                                                  ...        ...\n",
              "19895   I'll settle for not finding out. \"\\n\\nWe didn...          1\n",
              "19896   They hate you the way you are. And I'll tell ...          1\n",
              "19897  \\n\\nTo use this interface, all you need is a C...          1\n",
              "19898   This is more an outline, not a visual guidebo...          1\n",
              "19899   “There is no place for anyone who would not l...          1\n",
              "\n",
              "[19900 rows x 2 columns]"
            ]
          },
          "metadata": {
            "tags": []
          },
          "execution_count": 103
        }
      ]
    },
    {
      "cell_type": "code",
      "metadata": {
        "colab_type": "code",
        "id": "qPB-F07MSGe4",
        "colab": {}
      },
      "source": [
        "synth_train_pos.to_csv('gpt3_imbd_pos1.csv')"
      ],
      "execution_count": 104,
      "outputs": []
    },
    {
      "cell_type": "code",
      "metadata": {
        "colab_type": "code",
        "id": "ddIlTEJkSGe5",
        "colab": {
          "base_uri": "https://localhost:8080/",
          "height": 17
        },
        "outputId": "7aa30623-3ae4-40c0-db95-76f06ace91d0"
      },
      "source": [
        "from google.colab import files\n",
        "files.download('gpt3_imbd_pos1.csv')"
      ],
      "execution_count": 105,
      "outputs": [
        {
          "output_type": "display_data",
          "data": {
            "application/javascript": [
              "\n",
              "    async function download(id, filename, size) {\n",
              "      if (!google.colab.kernel.accessAllowed) {\n",
              "        return;\n",
              "      }\n",
              "      const div = document.createElement('div');\n",
              "      const label = document.createElement('label');\n",
              "      label.textContent = `Downloading \"${filename}\": `;\n",
              "      div.appendChild(label);\n",
              "      const progress = document.createElement('progress');\n",
              "      progress.max = size;\n",
              "      div.appendChild(progress);\n",
              "      document.body.appendChild(div);\n",
              "\n",
              "      const buffers = [];\n",
              "      let downloaded = 0;\n",
              "\n",
              "      const channel = await google.colab.kernel.comms.open(id);\n",
              "      // Send a message to notify the kernel that we're ready.\n",
              "      channel.send({})\n",
              "\n",
              "      for await (const message of channel.messages) {\n",
              "        // Send a message to notify the kernel that we're ready.\n",
              "        channel.send({})\n",
              "        if (message.buffers) {\n",
              "          for (const buffer of message.buffers) {\n",
              "            buffers.push(buffer);\n",
              "            downloaded += buffer.byteLength;\n",
              "            progress.value = downloaded;\n",
              "          }\n",
              "        }\n",
              "      }\n",
              "      const blob = new Blob(buffers, {type: 'application/binary'});\n",
              "      const a = document.createElement('a');\n",
              "      a.href = window.URL.createObjectURL(blob);\n",
              "      a.download = filename;\n",
              "      div.appendChild(a);\n",
              "      a.click();\n",
              "      div.remove();\n",
              "    }\n",
              "  "
            ],
            "text/plain": [
              "<IPython.core.display.Javascript object>"
            ]
          },
          "metadata": {
            "tags": []
          }
        },
        {
          "output_type": "display_data",
          "data": {
            "application/javascript": [
              "download(\"download_79b50051-1ccc-4292-a68a-f5f20d99d775\", \"gpt3_imbd_pos1.csv\", 14652563)"
            ],
            "text/plain": [
              "<IPython.core.display.Javascript object>"
            ]
          },
          "metadata": {
            "tags": []
          }
        }
      ]
    },
    {
      "cell_type": "markdown",
      "metadata": {
        "colab_type": "text",
        "id": "Xu69BT2aSGe7"
      },
      "source": [
        "### Concatonate them for one large training dataset."
      ]
    },
    {
      "cell_type": "code",
      "metadata": {
        "colab_type": "code",
        "id": "JBAtxO4TSGe7",
        "colab": {}
      },
      "source": [
        "gpt_train = pd.concat([synth_train_pos, synth_train_neg])"
      ],
      "execution_count": 106,
      "outputs": []
    },
    {
      "cell_type": "code",
      "metadata": {
        "colab_type": "code",
        "id": "Xz847Sh4SGe9",
        "colab": {}
      },
      "source": [
        "gpt_train.to_csv('gpt3_imbd_train1_1.csv', index=False)"
      ],
      "execution_count": 107,
      "outputs": []
    },
    {
      "cell_type": "code",
      "metadata": {
        "colab_type": "code",
        "id": "rrVBoO1QSGe_",
        "colab": {
          "base_uri": "https://localhost:8080/",
          "height": 17
        },
        "outputId": "1d9518d5-7b89-4ebb-d3b9-8ba7b018bc6c"
      },
      "source": [
        "from google.colab import files\n",
        "files.download('gpt3_imbd_train1_1.csv')"
      ],
      "execution_count": 108,
      "outputs": [
        {
          "output_type": "display_data",
          "data": {
            "application/javascript": [
              "\n",
              "    async function download(id, filename, size) {\n",
              "      if (!google.colab.kernel.accessAllowed) {\n",
              "        return;\n",
              "      }\n",
              "      const div = document.createElement('div');\n",
              "      const label = document.createElement('label');\n",
              "      label.textContent = `Downloading \"${filename}\": `;\n",
              "      div.appendChild(label);\n",
              "      const progress = document.createElement('progress');\n",
              "      progress.max = size;\n",
              "      div.appendChild(progress);\n",
              "      document.body.appendChild(div);\n",
              "\n",
              "      const buffers = [];\n",
              "      let downloaded = 0;\n",
              "\n",
              "      const channel = await google.colab.kernel.comms.open(id);\n",
              "      // Send a message to notify the kernel that we're ready.\n",
              "      channel.send({})\n",
              "\n",
              "      for await (const message of channel.messages) {\n",
              "        // Send a message to notify the kernel that we're ready.\n",
              "        channel.send({})\n",
              "        if (message.buffers) {\n",
              "          for (const buffer of message.buffers) {\n",
              "            buffers.push(buffer);\n",
              "            downloaded += buffer.byteLength;\n",
              "            progress.value = downloaded;\n",
              "          }\n",
              "        }\n",
              "      }\n",
              "      const blob = new Blob(buffers, {type: 'application/binary'});\n",
              "      const a = document.createElement('a');\n",
              "      a.href = window.URL.createObjectURL(blob);\n",
              "      a.download = filename;\n",
              "      div.appendChild(a);\n",
              "      a.click();\n",
              "      div.remove();\n",
              "    }\n",
              "  "
            ],
            "text/plain": [
              "<IPython.core.display.Javascript object>"
            ]
          },
          "metadata": {
            "tags": []
          }
        },
        {
          "output_type": "display_data",
          "data": {
            "application/javascript": [
              "download(\"download_69d53503-ed51-4768-88f3-6bb4cf5e4454\", \"gpt3_imbd_train1_1.csv\", 29222696)"
            ],
            "text/plain": [
              "<IPython.core.display.Javascript object>"
            ]
          },
          "metadata": {
            "tags": []
          }
        }
      ]
    },
    {
      "cell_type": "code",
      "metadata": {
        "colab_type": "code",
        "id": "fj95bodDSGfD",
        "colab": {
          "base_uri": "https://localhost:8080/",
          "height": 34
        },
        "outputId": "86225390-388b-4b4e-a261-71547514bcc1"
      },
      "source": [
        "gpt_train.shape"
      ],
      "execution_count": 109,
      "outputs": [
        {
          "output_type": "execute_result",
          "data": {
            "text/plain": [
              "(40000, 2)"
            ]
          },
          "metadata": {
            "tags": []
          },
          "execution_count": 109
        }
      ]
    },
    {
      "cell_type": "code",
      "metadata": {
        "colab_type": "code",
        "id": "LR4VYOdnSGfG",
        "colab": {
          "base_uri": "https://localhost:8080/",
          "height": 68
        },
        "outputId": "51e1632b-0192-464b-c40e-76f65548ea04"
      },
      "source": [
        "gpt_train['sentiment'].value_counts(normalize=True)"
      ],
      "execution_count": 110,
      "outputs": [
        {
          "output_type": "execute_result",
          "data": {
            "text/plain": [
              "0    0.5025\n",
              "1    0.4975\n",
              "Name: sentiment, dtype: float64"
            ]
          },
          "metadata": {
            "tags": []
          },
          "execution_count": 110
        }
      ]
    }
  ]
}